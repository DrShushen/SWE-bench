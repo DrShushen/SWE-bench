{
 "cells": [
  {
   "cell_type": "code",
   "execution_count": 10,
   "metadata": {
    "metadata": {}
   },
   "outputs": [
    {
     "name": "stdout",
     "output_type": "stream",
     "text": [
      "- no_generation: 0\n",
      "- generated: 10\n",
      "- with_logs: 10\n",
      "- install_fail: 0\n",
      "- reset_failed: 0\n",
      "- no_apply: 8\n",
      "- applied: 2\n",
      "- test_errored: 0\n",
      "- test_timeout: 0\n",
      "- resolved: 1\n"
     ]
    }
   ],
   "source": [
    "model = \"test\"\n",
    "# ^ NOTE: MUST match 'model_name_or_path' in the predictions JSON file, I believe. \n",
    "\n",
    "predictions_path = \"/mnt/data-fourtb/Dropbox/Programming/wsl_repos/_forked/SWE-bench/wd/run_evaluation_20240415/swe-bench-example-preds.json\"\n",
    "swe_bench_tasks = \"/mnt/data-fourtb/Dropbox/Programming/wsl_repos/_forked/SWE-bench/wd/reused/swe-bench.json\"\n",
    "\n",
    "log_dir = \"/mnt/data-fourtb/Dropbox/Programming/wsl_repos/_forked/SWE-bench/wd/run_evaluation_20240415/logs/test\"\n",
    "# ^ NOTE: MUST include up to the subdirectory AFTER the root logs directory.\n",
    "\n",
    "from swebench.metrics.report import get_model_report\n",
    "\n",
    "report = get_model_report(model, predictions_path, swe_bench_tasks, log_dir)\n",
    "\n",
    "for k, v in report.items():\n",
    "    print(f\"- {k}: {len(v)}\")"
   ]
  }
 ],
 "metadata": {
  "kernelspec": {
   "display_name": "base",
   "language": "python",
   "name": "python3"
  },
  "language_info": {
   "codemirror_mode": {
    "name": "ipython",
    "version": 3
   },
   "file_extension": ".py",
   "mimetype": "text/x-python",
   "name": "python",
   "nbconvert_exporter": "python",
   "pygments_lexer": "ipython3",
   "version": "3.11.8"
  }
 },
 "nbformat": 4,
 "nbformat_minor": 2
}
