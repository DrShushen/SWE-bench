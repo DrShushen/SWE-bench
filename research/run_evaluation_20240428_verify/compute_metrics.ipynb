{
 "cells": [
  {
   "cell_type": "code",
   "execution_count": 3,
   "metadata": {
    "metadata": {}
   },
   "outputs": [
    {
     "name": "stdout",
     "output_type": "stream",
     "text": [
      "- no_generation: 0\n",
      "- generated: 126\n",
      "- with_logs: 105\n",
      "- install_fail: 5\n",
      "- reset_failed: 0\n",
      "- no_apply: 0\n",
      "- applied: 100\n",
      "- test_errored: 0\n",
      "- test_timeout: 0\n",
      "- resolved: 55\n"
     ]
    }
   ],
   "source": [
    "model = \"gold\"\n",
    "# ^ NOTE: MUST match 'model_name_or_path' in the predictions JSON file, I believe. \n",
    "\n",
    "predictions_path = \"/home/user/SWE-bench/research/run_evaluation_20240428_verify/check-harness.jsonl\"\n",
    "swe_bench_tasks = \"/home/user/SWE-bench/research/datasets/swe-bench.json\"\n",
    "\n",
    "log_dir = \"/home/user/SWE-bench/research/run_evaluation_20240428_verify/logs/gold\"\n",
    "# ^ NOTE: MUST include up to the subdirectory AFTER the root logs directory.\n",
    "\n",
    "from swebench.metrics.report import get_model_report\n",
    "\n",
    "report = get_model_report(model, predictions_path, swe_bench_tasks, log_dir)\n",
    "\n",
    "for k, v in report.items():\n",
    "    print(f\"- {k}: {len(v)}\")"
   ]
  }
 ],
 "metadata": {
  "kernelspec": {
   "display_name": "base",
   "language": "python",
   "name": "python3"
  },
  "language_info": {
   "codemirror_mode": {
    "name": "ipython",
    "version": 3
   },
   "file_extension": ".py",
   "mimetype": "text/x-python",
   "name": "python",
   "nbconvert_exporter": "python",
   "pygments_lexer": "ipython3",
   "version": "3.9.19"
  }
 },
 "nbformat": 4,
 "nbformat_minor": 2
}
