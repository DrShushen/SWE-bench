{
 "cells": [
  {
   "cell_type": "code",
   "execution_count": null,
   "metadata": {
    "metadata": {}
   },
   "outputs": [
    {
     "ename": "",
     "evalue": "",
     "output_type": "error",
     "traceback": [
      "\u001b[1;31mRunning cells with 'base (Python 3.9.16)' requires the ipykernel package.\n",
      "\u001b[1;31mRun the following command to install 'ipykernel' into the Python environment. \n",
      "\u001b[1;31mCommand: 'conda install -n base ipykernel --update-deps --force-reinstall'"
     ]
    }
   ],
   "source": [
    "model = \"gold\"\n",
    "# ^ NOTE: MUST match 'model_name_or_path' in the predictions JSON file, I believe. \n",
    "\n",
    "predictions_path = \"/home/user/SWE-bench/research/run_evaluation_20240428_verify2/check-harness.jsonl\"\n",
    "swe_bench_tasks = \"/home/user/SWE-bench/research/datasets/swe-bench.json\"\n",
    "\n",
    "log_dir = \"/home/user/SWE-bench/research/run_evaluation_20240428_verify2/logs/gold\"\n",
    "# ^ NOTE: MUST include up to the subdirectory AFTER the root logs directory.\n",
    "\n",
    "from swebench.metrics.report import get_model_report\n",
    "\n",
    "report = get_model_report(model, predictions_path, swe_bench_tasks, log_dir)\n",
    "\n",
    "for k, v in report.items():\n",
    "    print(f\"- {k}: {len(v)}\")"
   ]
  }
 ],
 "metadata": {
  "kernelspec": {
   "display_name": "base",
   "language": "python",
   "name": "python3"
  },
  "language_info": {
   "codemirror_mode": {
    "name": "ipython",
    "version": 3
   },
   "file_extension": ".py",
   "mimetype": "text/x-python",
   "name": "python",
   "nbconvert_exporter": "python",
   "pygments_lexer": "ipython3",
   "version": "3.9.16"
  }
 },
 "nbformat": 4,
 "nbformat_minor": 2
}
