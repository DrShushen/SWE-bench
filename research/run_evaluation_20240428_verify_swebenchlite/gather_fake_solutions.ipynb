{
 "cells": [
  {
   "cell_type": "code",
   "execution_count": 6,
   "metadata": {},
   "outputs": [],
   "source": [
    "swebenchlite_path = \"/home/user/SWE-bench/research/datasets/SWE-bench_Lite/test-00000-of-00001.json\"\n",
    "\n",
    "import json\n",
    "\n",
    "with open(swebenchlite_path) as f:\n",
    "    val = json.load(f)\n"
   ]
  },
  {
   "cell_type": "code",
   "execution_count": 7,
   "metadata": {},
   "outputs": [],
   "source": [
    "fake_patch = \"diff --git a/new.txt b/new.txt\\nnew file mode 100644\\n--- /dev/null\\n+++ b/new.txt\\n@@ -0,0 +1 @@\\n+new\\n\""
   ]
  },
  {
   "cell_type": "code",
   "execution_count": 8,
   "metadata": {},
   "outputs": [],
   "source": [
    "# These cause problems with evaluation pipeline by potentially breaking the conda setup.\n",
    "# sphinx 3.5 environment is definitely bad.\n",
    "# scikit-learn seems to sometimes not create the \"local\" conda environments but \"global\" ones.\n",
    "# requests doesn't seem to mess up conda but its environement fails at running tests always, so no use.\n",
    "BANNED_REPOS = [\n",
    "    # REPO, VERSION\n",
    "    (\"scikit-learn\", \"*\"),\n",
    "    (\"sphinx\", \"*\"),\n",
    "    (\"requests\", \"*\"),\n",
    "]"
   ]
  },
  {
   "cell_type": "code",
   "execution_count": 9,
   "metadata": {},
   "outputs": [],
   "source": [
    "fake_solutions = []\n",
    "\n",
    "for i in val:\n",
    "\n",
    "    # if any([x in i[\"repo\"] for x in BANNED_REPOS]):\n",
    "    #     continue\n",
    "    skip = False\n",
    "    for repo, version in BANNED_REPOS:\n",
    "        if repo in i[\"repo\"]:\n",
    "            if i[\"version\"] == version or version == \"*\":\n",
    "                skip = True\n",
    "    if skip:\n",
    "        continue\n",
    "    \n",
    "    fake_solutions.append(\n",
    "        {\n",
    "            \"instance_id\": i[\"instance_id\"],\n",
    "            \"model_patch\": fake_patch,\n",
    "            \"model_name_or_path\": \"dummy\",\n",
    "        }\n",
    "    )"
   ]
  },
  {
   "cell_type": "code",
   "execution_count": 10,
   "metadata": {},
   "outputs": [],
   "source": [
    "with open(\"fake_solutions.json\", \"w\") as f:\n",
    "    json.dump(fake_solutions, f)"
   ]
  }
 ],
 "metadata": {
  "kernelspec": {
   "display_name": "base",
   "language": "python",
   "name": "python3"
  },
  "language_info": {
   "codemirror_mode": {
    "name": "ipython",
    "version": 3
   },
   "file_extension": ".py",
   "mimetype": "text/x-python",
   "name": "python",
   "nbconvert_exporter": "python",
   "pygments_lexer": "ipython3",
   "version": "3.9.18"
  }
 },
 "nbformat": 4,
 "nbformat_minor": 2
}
