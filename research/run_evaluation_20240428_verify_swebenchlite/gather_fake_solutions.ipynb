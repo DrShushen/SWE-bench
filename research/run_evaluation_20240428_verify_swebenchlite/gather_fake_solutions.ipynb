{
 "cells": [
  {
   "cell_type": "code",
   "execution_count": 11,
   "metadata": {},
   "outputs": [],
   "source": [
    "swebenchlite_path = \"/home/user/SWE-bench/research/datasets/SWE-bench_Lite/test-00000-of-00001.json\"\n",
    "\n",
    "import json\n",
    "\n",
    "with open(swebenchlite_path) as f:\n",
    "    val = json.load(f)\n"
   ]
  },
  {
   "cell_type": "code",
   "execution_count": 12,
   "metadata": {},
   "outputs": [],
   "source": [
    "fake_patch = \"diff --git a/new.txt b/new.txt\\nnew file mode 100644\\n--- /dev/null\\n+++ b/new.txt\\n@@ -0,0 +1 @@\\n+new\\n\""
   ]
  },
  {
   "cell_type": "code",
   "execution_count": 13,
   "metadata": {},
   "outputs": [],
   "source": [
    "fake_solutions = []\n",
    "\n",
    "for i in val:\n",
    "    fake_solutions.append(\n",
    "        {\n",
    "            \"instance_id\": i[\"instance_id\"],\n",
    "            \"model_patch\": fake_patch,\n",
    "            \"model_name_or_path\": \"dummy\",\n",
    "        }\n",
    "    )"
   ]
  },
  {
   "cell_type": "code",
   "execution_count": 14,
   "metadata": {},
   "outputs": [],
   "source": [
    "with open(\"fake_solutions.json\", \"w\") as f:\n",
    "    json.dump(fake_solutions, f)"
   ]
  }
 ],
 "metadata": {
  "kernelspec": {
   "display_name": "base",
   "language": "python",
   "name": "python3"
  },
  "language_info": {
   "codemirror_mode": {
    "name": "ipython",
    "version": 3
   },
   "file_extension": ".py",
   "mimetype": "text/x-python",
   "name": "python",
   "nbconvert_exporter": "python",
   "pygments_lexer": "ipython3",
   "version": "3.9.19"
  }
 },
 "nbformat": 4,
 "nbformat_minor": 2
}
